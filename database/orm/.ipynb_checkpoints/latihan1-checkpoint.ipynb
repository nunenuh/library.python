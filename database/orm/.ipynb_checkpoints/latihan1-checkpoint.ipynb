{
 "cells": [
  {
   "cell_type": "code",
   "execution_count": 9,
   "metadata": {},
   "outputs": [],
   "source": [
    "import sqlalchemy\n",
    "from sqlalchemy import create_engine\n",
    "from sqlalchemy import Column, Integer, String\n",
    "from sqlalchemy.ext.declarative import declarative_base\n",
    "from sqlalchemy.orm import sessionmaker"
   ]
  },
  {
   "cell_type": "code",
   "execution_count": 30,
   "metadata": {},
   "outputs": [],
   "source": [
    "engine = create_engine('sqlite:///latihan.db', echo=True)\n",
    "Base = declarative_base()"
   ]
  },
  {
   "cell_type": "code",
   "execution_count": 31,
   "metadata": {},
   "outputs": [],
   "source": [
    "class Building(Base):\n",
    "    __tablename__ = 'building'\n",
    "    \n",
    "    id = Column(Integer, primary_key=True)\n",
    "    name = Column(String)\n",
    "    description = Column(String)\n",
    "    \n",
    "    \n",
    "    def __repr__(self):\n",
    "        return f'<Building(name={self.name}, description={self.description})>'\n",
    "    "
   ]
  },
  {
   "cell_type": "code",
   "execution_count": 33,
   "metadata": {},
   "outputs": [],
   "source": [
    "# Create database with all of its tables\n",
    "# Base.metadata.create_all(engine)"
   ]
  },
  {
   "cell_type": "code",
   "execution_count": 11,
   "metadata": {},
   "outputs": [],
   "source": [
    "Session = sessionmaker(bind=engine)\n",
    "session = Session()"
   ]
  },
  {
   "cell_type": "code",
   "execution_count": 18,
   "metadata": {},
   "outputs": [
    {
     "name": "stdout",
     "output_type": "stream",
     "text": [
      "2019-01-28 20:08:37,426 INFO sqlalchemy.engine.base.Engine BEGIN (implicit)\n",
      "2019-01-28 20:08:37,430 INFO sqlalchemy.engine.base.Engine INSERT INTO building (name, description) VALUES (?, ?)\n",
      "2019-01-28 20:08:37,433 INFO sqlalchemy.engine.base.Engine ('ITEC', 'Bangunan tempat kursus')\n",
      "2019-01-28 20:08:37,436 INFO sqlalchemy.engine.base.Engine INSERT INTO building (name, description) VALUES (?, ?)\n",
      "2019-01-28 20:08:37,437 INFO sqlalchemy.engine.base.Engine ('ITEC', 'Bangunan tempat kursus')\n",
      "2019-01-28 20:08:37,440 INFO sqlalchemy.engine.base.Engine COMMIT\n"
     ]
    }
   ],
   "source": [
    "b = Building()\n",
    "b.name = 'ITEC'\n",
    "b.description = 'Bangunan tempat kursus'\n",
    "session.add(b)\n",
    "session.commit()"
   ]
  },
  {
   "cell_type": "code",
   "execution_count": 23,
   "metadata": {},
   "outputs": [
    {
     "name": "stdout",
     "output_type": "stream",
     "text": [
      "2019-01-28 20:15:15,630 INFO sqlalchemy.engine.base.Engine SELECT building.id AS building_id, building.name AS building_name, building.description AS building_description \n",
      "FROM building\n",
      "2019-01-28 20:15:15,635 INFO sqlalchemy.engine.base.Engine ()\n",
      "[<Building(name=ITEC, description=Bangunan tempat kursus)>, <Building(name=ITEC, description=Bangunan tempat kursus)>]\n"
     ]
    }
   ],
   "source": [
    "#access all data from Building\n",
    "get_all = session.query(Building).all()\n",
    "print(get_all)"
   ]
  },
  {
   "cell_type": "code",
   "execution_count": 28,
   "metadata": {},
   "outputs": [
    {
     "name": "stdout",
     "output_type": "stream",
     "text": [
      "2019-01-28 20:16:51,547 INFO sqlalchemy.engine.base.Engine SELECT building.id AS building_id, building.name AS building_name, building.description AS building_description \n",
      "FROM building \n",
      "WHERE building.id = ?\n",
      " LIMIT ? OFFSET ?\n",
      "2019-01-28 20:16:51,551 INFO sqlalchemy.engine.base.Engine (1, 1, 0)\n",
      "ITEC\n"
     ]
    }
   ],
   "source": [
    "#get Building by its id, and get the first row of it\n",
    "b1 = session.query(Building).filter_by(id=1).first()\n",
    "print(b1.name)"
   ]
  },
  {
   "cell_type": "code",
   "execution_count": 29,
   "metadata": {},
   "outputs": [
    {
     "name": "stdout",
     "output_type": "stream",
     "text": [
      "2019-01-28 20:17:00,806 INFO sqlalchemy.engine.base.Engine SELECT building.id AS building_id, building.name AS building_name, building.description AS building_description \n",
      "FROM building \n",
      "WHERE building.name = ?\n",
      " LIMIT ? OFFSET ?\n",
      "2019-01-28 20:17:00,810 INFO sqlalchemy.engine.base.Engine ('ITEC', 1, 0)\n",
      "ITEC\n"
     ]
    }
   ],
   "source": [
    "#get Building by its id, and get the first row of it\n",
    "b2 = session.query(Building).filter_by(name=\"ITEC\").first()\n",
    "print(b2.name)"
   ]
  },
  {
   "cell_type": "code",
   "execution_count": null,
   "metadata": {},
   "outputs": [],
   "source": []
  }
 ],
 "metadata": {
  "kernelspec": {
   "display_name": "Python 3",
   "language": "python",
   "name": "python3"
  },
  "language_info": {
   "codemirror_mode": {
    "name": "ipython",
    "version": 3
   },
   "file_extension": ".py",
   "mimetype": "text/x-python",
   "name": "python",
   "nbconvert_exporter": "python",
   "pygments_lexer": "ipython3",
   "version": "3.6.8"
  }
 },
 "nbformat": 4,
 "nbformat_minor": 2
}
